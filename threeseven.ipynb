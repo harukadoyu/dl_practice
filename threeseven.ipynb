{
 "cells": [
  {
   "cell_type": "code",
   "execution_count": 1,
   "id": "db381a44-18a0-4b15-9972-b0f8e04faaaa",
   "metadata": {},
   "outputs": [],
   "source": [
    "from fastai.vision.all import *"
   ]
  },
  {
   "cell_type": "code",
   "execution_count": 2,
   "id": "7a940978-cf51-4588-9546-8978f3b6a86f",
   "metadata": {},
   "outputs": [],
   "source": [
    "path = untar_data(URLs.MNIST_SAMPLE)"
   ]
  },
  {
   "cell_type": "code",
   "execution_count": 3,
   "id": "fae30676-a7df-458c-9ed7-c1ad2bb016d6",
   "metadata": {},
   "outputs": [],
   "source": [
    "Path.BASE_PATH = path"
   ]
  },
  {
   "cell_type": "code",
   "execution_count": 8,
   "id": "2d4f1666-863c-42a3-87e0-1a0986607e9a",
   "metadata": {},
   "outputs": [
    {
     "data": {
      "text/plain": [
       "(#2) [Path('train/3'),Path('train/7')]"
      ]
     },
     "execution_count": 8,
     "metadata": {},
     "output_type": "execute_result"
    }
   ],
   "source": [
    "(path/'train').ls()"
   ]
  },
  {
   "cell_type": "code",
   "execution_count": 10,
   "id": "8796d1ba-82b1-410c-80ef-e9f5094f75ea",
   "metadata": {},
   "outputs": [],
   "source": [
    "train_three = (path/'train'/'3').ls()\n",
    "train_seven = (path/'train'/'7').ls()\n",
    "valid_three = (path/'valid'/'3').ls()\n",
    "valid_seven = (path/'valid'/'7').ls()"
   ]
  },
  {
   "cell_type": "code",
   "execution_count": 15,
   "id": "77c24c8b-5fde-4a23-8e37-8498d3683508",
   "metadata": {},
   "outputs": [
    {
     "data": {
      "text/plain": [
       "tensor([[  0,   0,   0,   0,   0,   0,  39, 228, 255, 253],\n",
       "        [  0,   0,   0,   0,   0,   0, 113, 232, 254, 254],\n",
       "        [  0,   0,   0,   0,   0,   0,  33, 224, 254, 254],\n",
       "        [  0,   0,   0,   0,   0,   0,   8, 129, 156, 156],\n",
       "        [  0,   0,   0,   0,   0,   0,   0,   0,   0,   0],\n",
       "        [  0,   0,   0,   0,   0,  73,  86,  86,  86, 116],\n",
       "        [  0,   0,   0,   0,   0, 216, 254, 254, 254, 254],\n",
       "        [  0,   0,   0,  28, 187, 247, 254, 254, 254, 254],\n",
       "        [  0,   0,   0,  23, 128, 254, 254, 254, 254, 254],\n",
       "        [  0,   0,   0,  51, 206, 254, 254, 254, 254, 254]], dtype=torch.uint8)"
      ]
     },
     "execution_count": 15,
     "metadata": {},
     "output_type": "execute_result"
    }
   ],
   "source": [
    "im = Image.open(train_three[0])"
   ]
  },
  {
   "cell_type": "code",
   "execution_count": 18,
   "id": "0d79e00c-e96c-469a-9ca9-00136fa53ccc",
   "metadata": {},
   "outputs": [
    {
     "data": {
      "text/html": [
       "<style type=\"text/css\">\n",
       "#T_853d9_row0_col0, #T_853d9_row0_col1, #T_853d9_row0_col2, #T_853d9_row0_col3, #T_853d9_row0_col4, #T_853d9_row0_col5, #T_853d9_row1_col0, #T_853d9_row1_col1, #T_853d9_row1_col2, #T_853d9_row1_col3, #T_853d9_row1_col4, #T_853d9_row1_col5, #T_853d9_row2_col0, #T_853d9_row2_col1, #T_853d9_row2_col2, #T_853d9_row2_col3, #T_853d9_row2_col4, #T_853d9_row2_col5, #T_853d9_row3_col0, #T_853d9_row3_col1, #T_853d9_row3_col2, #T_853d9_row3_col3, #T_853d9_row3_col4, #T_853d9_row3_col5, #T_853d9_row4_col0, #T_853d9_row4_col1, #T_853d9_row4_col2, #T_853d9_row4_col3, #T_853d9_row4_col4, #T_853d9_row4_col5, #T_853d9_row4_col6, #T_853d9_row4_col7, #T_853d9_row4_col8, #T_853d9_row4_col9, #T_853d9_row5_col0, #T_853d9_row5_col1, #T_853d9_row5_col2, #T_853d9_row5_col3, #T_853d9_row5_col4, #T_853d9_row6_col0, #T_853d9_row6_col1, #T_853d9_row6_col2, #T_853d9_row6_col3, #T_853d9_row6_col4, #T_853d9_row7_col0, #T_853d9_row7_col1, #T_853d9_row7_col2, #T_853d9_row8_col0, #T_853d9_row8_col1, #T_853d9_row8_col2, #T_853d9_row9_col0, #T_853d9_row9_col1, #T_853d9_row9_col2 {\n",
       "  font-size: 6pt;\n",
       "  background-color: #ffffff;\n",
       "  color: #000000;\n",
       "}\n",
       "#T_853d9_row0_col6 {\n",
       "  font-size: 6pt;\n",
       "  background-color: #ebebeb;\n",
       "  color: #000000;\n",
       "}\n",
       "#T_853d9_row0_col7 {\n",
       "  font-size: 6pt;\n",
       "  background-color: #1e1e1e;\n",
       "  color: #f1f1f1;\n",
       "}\n",
       "#T_853d9_row0_col8, #T_853d9_row1_col9, #T_853d9_row2_col9, #T_853d9_row6_col6, #T_853d9_row6_col7, #T_853d9_row6_col9, #T_853d9_row7_col6, #T_853d9_row7_col7, #T_853d9_row7_col9, #T_853d9_row8_col5, #T_853d9_row8_col6, #T_853d9_row8_col7, #T_853d9_row8_col9, #T_853d9_row9_col3, #T_853d9_row9_col4, #T_853d9_row9_col5, #T_853d9_row9_col6, #T_853d9_row9_col7, #T_853d9_row9_col9 {\n",
       "  font-size: 6pt;\n",
       "  background-color: #000000;\n",
       "  color: #f1f1f1;\n",
       "}\n",
       "#T_853d9_row0_col9, #T_853d9_row1_col8, #T_853d9_row2_col8, #T_853d9_row6_col8, #T_853d9_row7_col8, #T_853d9_row8_col8, #T_853d9_row9_col8 {\n",
       "  font-size: 6pt;\n",
       "  background-color: #010101;\n",
       "  color: #f1f1f1;\n",
       "}\n",
       "#T_853d9_row1_col6 {\n",
       "  font-size: 6pt;\n",
       "  background-color: #a8a8a8;\n",
       "  color: #f1f1f1;\n",
       "}\n",
       "#T_853d9_row1_col7 {\n",
       "  font-size: 6pt;\n",
       "  background-color: #1a1a1a;\n",
       "  color: #f1f1f1;\n",
       "}\n",
       "#T_853d9_row2_col6 {\n",
       "  font-size: 6pt;\n",
       "  background-color: #efefef;\n",
       "  color: #000000;\n",
       "}\n",
       "#T_853d9_row2_col7 {\n",
       "  font-size: 6pt;\n",
       "  background-color: #232323;\n",
       "  color: #f1f1f1;\n",
       "}\n",
       "#T_853d9_row3_col6 {\n",
       "  font-size: 6pt;\n",
       "  background-color: #fbfbfb;\n",
       "  color: #000000;\n",
       "}\n",
       "#T_853d9_row3_col7 {\n",
       "  font-size: 6pt;\n",
       "  background-color: #939393;\n",
       "  color: #f1f1f1;\n",
       "}\n",
       "#T_853d9_row3_col8 {\n",
       "  font-size: 6pt;\n",
       "  background-color: #777777;\n",
       "  color: #f1f1f1;\n",
       "}\n",
       "#T_853d9_row3_col9 {\n",
       "  font-size: 6pt;\n",
       "  background-color: #767676;\n",
       "  color: #f1f1f1;\n",
       "}\n",
       "#T_853d9_row5_col5 {\n",
       "  font-size: 6pt;\n",
       "  background-color: #d1d1d1;\n",
       "  color: #000000;\n",
       "}\n",
       "#T_853d9_row5_col6, #T_853d9_row5_col7, #T_853d9_row5_col8 {\n",
       "  font-size: 6pt;\n",
       "  background-color: #c5c5c5;\n",
       "  color: #000000;\n",
       "}\n",
       "#T_853d9_row5_col9 {\n",
       "  font-size: 6pt;\n",
       "  background-color: #a4a4a4;\n",
       "  color: #f1f1f1;\n",
       "}\n",
       "#T_853d9_row6_col5 {\n",
       "  font-size: 6pt;\n",
       "  background-color: #2e2e2e;\n",
       "  color: #f1f1f1;\n",
       "}\n",
       "#T_853d9_row7_col3 {\n",
       "  font-size: 6pt;\n",
       "  background-color: #888888;\n",
       "  color: #f1f1f1;\n",
       "}\n",
       "#T_853d9_row7_col4 {\n",
       "  font-size: 6pt;\n",
       "  background-color: #1b1b1b;\n",
       "  color: #f1f1f1;\n",
       "}\n",
       "#T_853d9_row7_col5 {\n",
       "  font-size: 6pt;\n",
       "  background-color: #080808;\n",
       "  color: #f1f1f1;\n",
       "}\n",
       "#T_853d9_row8_col3 {\n",
       "  font-size: 6pt;\n",
       "  background-color: #a5a5a5;\n",
       "  color: #f1f1f1;\n",
       "}\n",
       "#T_853d9_row8_col4 {\n",
       "  font-size: 6pt;\n",
       "  background-color: #737373;\n",
       "  color: #f1f1f1;\n",
       "}\n",
       "</style>\n",
       "<table id=\"T_853d9\">\n",
       "  <thead>\n",
       "    <tr>\n",
       "      <th class=\"blank level0\" >&nbsp;</th>\n",
       "      <th id=\"T_853d9_level0_col0\" class=\"col_heading level0 col0\" >0</th>\n",
       "      <th id=\"T_853d9_level0_col1\" class=\"col_heading level0 col1\" >1</th>\n",
       "      <th id=\"T_853d9_level0_col2\" class=\"col_heading level0 col2\" >2</th>\n",
       "      <th id=\"T_853d9_level0_col3\" class=\"col_heading level0 col3\" >3</th>\n",
       "      <th id=\"T_853d9_level0_col4\" class=\"col_heading level0 col4\" >4</th>\n",
       "      <th id=\"T_853d9_level0_col5\" class=\"col_heading level0 col5\" >5</th>\n",
       "      <th id=\"T_853d9_level0_col6\" class=\"col_heading level0 col6\" >6</th>\n",
       "      <th id=\"T_853d9_level0_col7\" class=\"col_heading level0 col7\" >7</th>\n",
       "      <th id=\"T_853d9_level0_col8\" class=\"col_heading level0 col8\" >8</th>\n",
       "      <th id=\"T_853d9_level0_col9\" class=\"col_heading level0 col9\" >9</th>\n",
       "    </tr>\n",
       "  </thead>\n",
       "  <tbody>\n",
       "    <tr>\n",
       "      <th id=\"T_853d9_level0_row0\" class=\"row_heading level0 row0\" >0</th>\n",
       "      <td id=\"T_853d9_row0_col0\" class=\"data row0 col0\" >0</td>\n",
       "      <td id=\"T_853d9_row0_col1\" class=\"data row0 col1\" >0</td>\n",
       "      <td id=\"T_853d9_row0_col2\" class=\"data row0 col2\" >0</td>\n",
       "      <td id=\"T_853d9_row0_col3\" class=\"data row0 col3\" >0</td>\n",
       "      <td id=\"T_853d9_row0_col4\" class=\"data row0 col4\" >0</td>\n",
       "      <td id=\"T_853d9_row0_col5\" class=\"data row0 col5\" >0</td>\n",
       "      <td id=\"T_853d9_row0_col6\" class=\"data row0 col6\" >39</td>\n",
       "      <td id=\"T_853d9_row0_col7\" class=\"data row0 col7\" >228</td>\n",
       "      <td id=\"T_853d9_row0_col8\" class=\"data row0 col8\" >255</td>\n",
       "      <td id=\"T_853d9_row0_col9\" class=\"data row0 col9\" >253</td>\n",
       "    </tr>\n",
       "    <tr>\n",
       "      <th id=\"T_853d9_level0_row1\" class=\"row_heading level0 row1\" >1</th>\n",
       "      <td id=\"T_853d9_row1_col0\" class=\"data row1 col0\" >0</td>\n",
       "      <td id=\"T_853d9_row1_col1\" class=\"data row1 col1\" >0</td>\n",
       "      <td id=\"T_853d9_row1_col2\" class=\"data row1 col2\" >0</td>\n",
       "      <td id=\"T_853d9_row1_col3\" class=\"data row1 col3\" >0</td>\n",
       "      <td id=\"T_853d9_row1_col4\" class=\"data row1 col4\" >0</td>\n",
       "      <td id=\"T_853d9_row1_col5\" class=\"data row1 col5\" >0</td>\n",
       "      <td id=\"T_853d9_row1_col6\" class=\"data row1 col6\" >113</td>\n",
       "      <td id=\"T_853d9_row1_col7\" class=\"data row1 col7\" >232</td>\n",
       "      <td id=\"T_853d9_row1_col8\" class=\"data row1 col8\" >254</td>\n",
       "      <td id=\"T_853d9_row1_col9\" class=\"data row1 col9\" >254</td>\n",
       "    </tr>\n",
       "    <tr>\n",
       "      <th id=\"T_853d9_level0_row2\" class=\"row_heading level0 row2\" >2</th>\n",
       "      <td id=\"T_853d9_row2_col0\" class=\"data row2 col0\" >0</td>\n",
       "      <td id=\"T_853d9_row2_col1\" class=\"data row2 col1\" >0</td>\n",
       "      <td id=\"T_853d9_row2_col2\" class=\"data row2 col2\" >0</td>\n",
       "      <td id=\"T_853d9_row2_col3\" class=\"data row2 col3\" >0</td>\n",
       "      <td id=\"T_853d9_row2_col4\" class=\"data row2 col4\" >0</td>\n",
       "      <td id=\"T_853d9_row2_col5\" class=\"data row2 col5\" >0</td>\n",
       "      <td id=\"T_853d9_row2_col6\" class=\"data row2 col6\" >33</td>\n",
       "      <td id=\"T_853d9_row2_col7\" class=\"data row2 col7\" >224</td>\n",
       "      <td id=\"T_853d9_row2_col8\" class=\"data row2 col8\" >254</td>\n",
       "      <td id=\"T_853d9_row2_col9\" class=\"data row2 col9\" >254</td>\n",
       "    </tr>\n",
       "    <tr>\n",
       "      <th id=\"T_853d9_level0_row3\" class=\"row_heading level0 row3\" >3</th>\n",
       "      <td id=\"T_853d9_row3_col0\" class=\"data row3 col0\" >0</td>\n",
       "      <td id=\"T_853d9_row3_col1\" class=\"data row3 col1\" >0</td>\n",
       "      <td id=\"T_853d9_row3_col2\" class=\"data row3 col2\" >0</td>\n",
       "      <td id=\"T_853d9_row3_col3\" class=\"data row3 col3\" >0</td>\n",
       "      <td id=\"T_853d9_row3_col4\" class=\"data row3 col4\" >0</td>\n",
       "      <td id=\"T_853d9_row3_col5\" class=\"data row3 col5\" >0</td>\n",
       "      <td id=\"T_853d9_row3_col6\" class=\"data row3 col6\" >8</td>\n",
       "      <td id=\"T_853d9_row3_col7\" class=\"data row3 col7\" >129</td>\n",
       "      <td id=\"T_853d9_row3_col8\" class=\"data row3 col8\" >156</td>\n",
       "      <td id=\"T_853d9_row3_col9\" class=\"data row3 col9\" >156</td>\n",
       "    </tr>\n",
       "    <tr>\n",
       "      <th id=\"T_853d9_level0_row4\" class=\"row_heading level0 row4\" >4</th>\n",
       "      <td id=\"T_853d9_row4_col0\" class=\"data row4 col0\" >0</td>\n",
       "      <td id=\"T_853d9_row4_col1\" class=\"data row4 col1\" >0</td>\n",
       "      <td id=\"T_853d9_row4_col2\" class=\"data row4 col2\" >0</td>\n",
       "      <td id=\"T_853d9_row4_col3\" class=\"data row4 col3\" >0</td>\n",
       "      <td id=\"T_853d9_row4_col4\" class=\"data row4 col4\" >0</td>\n",
       "      <td id=\"T_853d9_row4_col5\" class=\"data row4 col5\" >0</td>\n",
       "      <td id=\"T_853d9_row4_col6\" class=\"data row4 col6\" >0</td>\n",
       "      <td id=\"T_853d9_row4_col7\" class=\"data row4 col7\" >0</td>\n",
       "      <td id=\"T_853d9_row4_col8\" class=\"data row4 col8\" >0</td>\n",
       "      <td id=\"T_853d9_row4_col9\" class=\"data row4 col9\" >0</td>\n",
       "    </tr>\n",
       "    <tr>\n",
       "      <th id=\"T_853d9_level0_row5\" class=\"row_heading level0 row5\" >5</th>\n",
       "      <td id=\"T_853d9_row5_col0\" class=\"data row5 col0\" >0</td>\n",
       "      <td id=\"T_853d9_row5_col1\" class=\"data row5 col1\" >0</td>\n",
       "      <td id=\"T_853d9_row5_col2\" class=\"data row5 col2\" >0</td>\n",
       "      <td id=\"T_853d9_row5_col3\" class=\"data row5 col3\" >0</td>\n",
       "      <td id=\"T_853d9_row5_col4\" class=\"data row5 col4\" >0</td>\n",
       "      <td id=\"T_853d9_row5_col5\" class=\"data row5 col5\" >73</td>\n",
       "      <td id=\"T_853d9_row5_col6\" class=\"data row5 col6\" >86</td>\n",
       "      <td id=\"T_853d9_row5_col7\" class=\"data row5 col7\" >86</td>\n",
       "      <td id=\"T_853d9_row5_col8\" class=\"data row5 col8\" >86</td>\n",
       "      <td id=\"T_853d9_row5_col9\" class=\"data row5 col9\" >116</td>\n",
       "    </tr>\n",
       "    <tr>\n",
       "      <th id=\"T_853d9_level0_row6\" class=\"row_heading level0 row6\" >6</th>\n",
       "      <td id=\"T_853d9_row6_col0\" class=\"data row6 col0\" >0</td>\n",
       "      <td id=\"T_853d9_row6_col1\" class=\"data row6 col1\" >0</td>\n",
       "      <td id=\"T_853d9_row6_col2\" class=\"data row6 col2\" >0</td>\n",
       "      <td id=\"T_853d9_row6_col3\" class=\"data row6 col3\" >0</td>\n",
       "      <td id=\"T_853d9_row6_col4\" class=\"data row6 col4\" >0</td>\n",
       "      <td id=\"T_853d9_row6_col5\" class=\"data row6 col5\" >216</td>\n",
       "      <td id=\"T_853d9_row6_col6\" class=\"data row6 col6\" >254</td>\n",
       "      <td id=\"T_853d9_row6_col7\" class=\"data row6 col7\" >254</td>\n",
       "      <td id=\"T_853d9_row6_col8\" class=\"data row6 col8\" >254</td>\n",
       "      <td id=\"T_853d9_row6_col9\" class=\"data row6 col9\" >254</td>\n",
       "    </tr>\n",
       "    <tr>\n",
       "      <th id=\"T_853d9_level0_row7\" class=\"row_heading level0 row7\" >7</th>\n",
       "      <td id=\"T_853d9_row7_col0\" class=\"data row7 col0\" >0</td>\n",
       "      <td id=\"T_853d9_row7_col1\" class=\"data row7 col1\" >0</td>\n",
       "      <td id=\"T_853d9_row7_col2\" class=\"data row7 col2\" >0</td>\n",
       "      <td id=\"T_853d9_row7_col3\" class=\"data row7 col3\" >28</td>\n",
       "      <td id=\"T_853d9_row7_col4\" class=\"data row7 col4\" >187</td>\n",
       "      <td id=\"T_853d9_row7_col5\" class=\"data row7 col5\" >247</td>\n",
       "      <td id=\"T_853d9_row7_col6\" class=\"data row7 col6\" >254</td>\n",
       "      <td id=\"T_853d9_row7_col7\" class=\"data row7 col7\" >254</td>\n",
       "      <td id=\"T_853d9_row7_col8\" class=\"data row7 col8\" >254</td>\n",
       "      <td id=\"T_853d9_row7_col9\" class=\"data row7 col9\" >254</td>\n",
       "    </tr>\n",
       "    <tr>\n",
       "      <th id=\"T_853d9_level0_row8\" class=\"row_heading level0 row8\" >8</th>\n",
       "      <td id=\"T_853d9_row8_col0\" class=\"data row8 col0\" >0</td>\n",
       "      <td id=\"T_853d9_row8_col1\" class=\"data row8 col1\" >0</td>\n",
       "      <td id=\"T_853d9_row8_col2\" class=\"data row8 col2\" >0</td>\n",
       "      <td id=\"T_853d9_row8_col3\" class=\"data row8 col3\" >23</td>\n",
       "      <td id=\"T_853d9_row8_col4\" class=\"data row8 col4\" >128</td>\n",
       "      <td id=\"T_853d9_row8_col5\" class=\"data row8 col5\" >254</td>\n",
       "      <td id=\"T_853d9_row8_col6\" class=\"data row8 col6\" >254</td>\n",
       "      <td id=\"T_853d9_row8_col7\" class=\"data row8 col7\" >254</td>\n",
       "      <td id=\"T_853d9_row8_col8\" class=\"data row8 col8\" >254</td>\n",
       "      <td id=\"T_853d9_row8_col9\" class=\"data row8 col9\" >254</td>\n",
       "    </tr>\n",
       "    <tr>\n",
       "      <th id=\"T_853d9_level0_row9\" class=\"row_heading level0 row9\" >9</th>\n",
       "      <td id=\"T_853d9_row9_col0\" class=\"data row9 col0\" >0</td>\n",
       "      <td id=\"T_853d9_row9_col1\" class=\"data row9 col1\" >0</td>\n",
       "      <td id=\"T_853d9_row9_col2\" class=\"data row9 col2\" >0</td>\n",
       "      <td id=\"T_853d9_row9_col3\" class=\"data row9 col3\" >51</td>\n",
       "      <td id=\"T_853d9_row9_col4\" class=\"data row9 col4\" >206</td>\n",
       "      <td id=\"T_853d9_row9_col5\" class=\"data row9 col5\" >254</td>\n",
       "      <td id=\"T_853d9_row9_col6\" class=\"data row9 col6\" >254</td>\n",
       "      <td id=\"T_853d9_row9_col7\" class=\"data row9 col7\" >254</td>\n",
       "      <td id=\"T_853d9_row9_col8\" class=\"data row9 col8\" >254</td>\n",
       "      <td id=\"T_853d9_row9_col9\" class=\"data row9 col9\" >254</td>\n",
       "    </tr>\n",
       "  </tbody>\n",
       "</table>\n"
      ],
      "text/plain": [
       "<pandas.io.formats.style.Styler at 0x7f560f83dbe0>"
      ]
     },
     "execution_count": 18,
     "metadata": {},
     "output_type": "execute_result"
    }
   ],
   "source": [
    "df = pd.DataFrame(tensor(im)[5:15,5:15])\n",
    "df.style.set_properties(**{'font-size':'6pt'}).background_gradient('Greys')"
   ]
  },
  {
   "cell_type": "code",
   "execution_count": 24,
   "id": "32620e7a-3708-41ac-844b-d99bdd43dd41",
   "metadata": {},
   "outputs": [],
   "source": [
    "tensor_three = torch.stack([tensor(Image.open(im)) for im in train_three])/255.\n",
    "tensor_seven = torch.stack([tensor(Image.open(im)) for im in train_seven])/255.\n",
    "tensor_valid_three = torch.stack([tensor(Image.open(im)) for im in valid_three])/255.\n",
    "tensor_valid_seven = torch.stack([tensor(Image.open(im)) for im in valid_seven])/255."
   ]
  },
  {
   "cell_type": "code",
   "execution_count": 32,
   "id": "31b20481-1e68-4520-877e-de770645a2f0",
   "metadata": {},
   "outputs": [],
   "source": [
    "mean3 = tensor_three.mean(0)\n",
    "mean7 = tensor_seven.mean(0)\n",
    "def mnist_distance(a, b): return (a - b).abs().mean((-2, -1))"
   ]
  },
  {
   "cell_type": "code",
   "execution_count": 33,
   "id": "29edf5a9-b38f-406c-a71f-bb6ab171ab88",
   "metadata": {},
   "outputs": [],
   "source": [
    "def is_3(x): return mnist_distance(mean3, x) < mnist_distance(mean7, x)"
   ]
  },
  {
   "cell_type": "code",
   "execution_count": 47,
   "id": "8ba5634d-3e56-42b5-99f3-0618975e4613",
   "metadata": {},
   "outputs": [],
   "source": [
    "x = is_3(tensor_valid_three)"
   ]
  },
  {
   "cell_type": "code",
   "execution_count": 49,
   "id": "57af17e3-d95f-43e5-9f7e-67a272340b6a",
   "metadata": {},
   "outputs": [
    {
     "data": {
      "text/plain": [
       "tensor(926)"
      ]
     },
     "execution_count": 49,
     "metadata": {},
     "output_type": "execute_result"
    }
   ],
   "source": [
    "x.sum()"
   ]
  },
  {
   "cell_type": "code",
   "execution_count": null,
   "id": "66976af3-c9f6-4bcc-9534-bdff19441dab",
   "metadata": {},
   "outputs": [],
   "source": []
  }
 ],
 "metadata": {
  "kernelspec": {
   "display_name": "Python 3 (ipykernel)",
   "language": "python",
   "name": "python3"
  },
  "language_info": {
   "codemirror_mode": {
    "name": "ipython",
    "version": 3
   },
   "file_extension": ".py",
   "mimetype": "text/x-python",
   "name": "python",
   "nbconvert_exporter": "python",
   "pygments_lexer": "ipython3",
   "version": "3.9.13"
  }
 },
 "nbformat": 4,
 "nbformat_minor": 5
}
