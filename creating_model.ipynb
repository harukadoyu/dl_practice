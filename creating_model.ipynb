{
 "cells": [
  {
   "cell_type": "code",
   "execution_count": 1,
   "id": "82d2136c",
   "metadata": {},
   "outputs": [],
   "source": [
    "import torch\n",
    "import matplotlib.pyplot as plt\n",
    "from fastai.vision.all import *\n",
    "from torch.utils.data import DataLoader"
   ]
  },
  {
   "cell_type": "code",
   "execution_count": 2,
   "id": "3c7a6586",
   "metadata": {},
   "outputs": [],
   "source": [
    "path = untar_data(URLs.MNIST_SAMPLE)"
   ]
  },
  {
   "cell_type": "code",
   "execution_count": 3,
   "id": "0bc4b3a5",
   "metadata": {},
   "outputs": [
    {
     "data": {
      "text/plain": [
       "(#3) [Path('train'),Path('labels.csv'),Path('valid')]"
      ]
     },
     "execution_count": 3,
     "metadata": {},
     "output_type": "execute_result"
    }
   ],
   "source": [
    "Path.BASE_PATH = path\n",
    "path.ls()"
   ]
  },
  {
   "cell_type": "code",
   "execution_count": 4,
   "id": "aadde1cd",
   "metadata": {},
   "outputs": [],
   "source": [
    "three_trained = torch.stack([tensor(Image.open(o)) for o in (path/'train'/'3').ls()])/255.\n",
    "seven_trained = torch.stack([tensor(Image.open(o)) for o in (path/'train'/'7').ls()])/255.\n",
    "three_valid = torch.stack([tensor(Image.open(o)) for o in (path/'valid'/'3').ls()])/255.\n",
    "seven_valid = torch.stack([tensor(Image.open(o)) for o in (path/'valid'/'7').ls()])/255."
   ]
  },
  {
   "cell_type": "code",
   "execution_count": 5,
   "id": "2e066ada",
   "metadata": {},
   "outputs": [],
   "source": [
    "X_train = torch.cat([three_trained, seven_trained]).reshape(-1, 28*28)\n",
    "y_train = tensor([1]*len(three_trained) + [0]*len(seven_trained)).reshape(-1, 1)\n",
    "\n",
    "train_dset = list(zip(X_train, y_train))\n",
    "\n",
    "X_valid = torch.cat([three_valid, seven_valid]).reshape(-1, 28*28)\n",
    "y_valid = tensor([1]*len(three_valid) + [0]*len(seven_valid)).reshape(-1, 1)\n",
    "\n",
    "valid_dset = list(zip(X_valid, y_valid))"
   ]
  },
  {
   "cell_type": "code",
   "execution_count": 6,
   "id": "83d7b69e",
   "metadata": {},
   "outputs": [],
   "source": [
    "def init_params(size, std=1.0): return (torch.randn(size)*std).requires_grad_()\n",
    "\n",
    "weights = init_params((28*28, 1))\n",
    "bias = init_params(1)"
   ]
  },
  {
   "cell_type": "code",
   "execution_count": 7,
   "id": "114049cd",
   "metadata": {},
   "outputs": [],
   "source": [
    "def linear1(xb): return xb@weights + bias"
   ]
  },
  {
   "cell_type": "code",
   "execution_count": 8,
   "id": "dc4117e0",
   "metadata": {},
   "outputs": [],
   "source": [
    "def mnist_loss(pred, targ):\n",
    "    pred = pred.sigmoid()\n",
    "    return torch.where(targ==1, 1-pred, pred).mean()"
   ]
  },
  {
   "cell_type": "code",
   "execution_count": 15,
   "id": "344a4014",
   "metadata": {},
   "outputs": [],
   "source": [
    "dl = DataLoader(train_dset, batch_size=256, shuffle=True)"
   ]
  },
  {
   "cell_type": "code",
   "execution_count": 10,
   "id": "dc783c96",
   "metadata": {},
   "outputs": [],
   "source": [
    "def calc_grad(xb, yb, model):\n",
    "    pred = model(xb)\n",
    "    loss = mnist_loss(pred, yb)\n",
    "    loss.backward()"
   ]
  },
  {
   "cell_type": "code",
   "execution_count": 11,
   "id": "60dcfe15",
   "metadata": {},
   "outputs": [],
   "source": [
    "def train_epoch(model, lr, param):\n",
    "    for xb, yb in dl:\n",
    "        calc_grad(xb, yb, model)\n",
    "        for p in param:\n",
    "            p.data -= p.grad*lr\n",
    "            p.grad.zero_()"
   ]
  },
  {
   "cell_type": "code",
   "execution_count": 12,
   "id": "49417a2a",
   "metadata": {},
   "outputs": [],
   "source": [
    "def batch_accuracy(pred, targ):\n",
    "    pred = pred.sigmoid()\n",
    "    return ((pred>0.5) == targ).float().mean()"
   ]
  },
  {
   "cell_type": "code",
   "execution_count": 13,
   "id": "8a3eca11",
   "metadata": {},
   "outputs": [],
   "source": [
    "def validate_epoch(model):\n",
    "    pred = model(X_valid)\n",
    "    a = batch_accuracy(pred, y_valid)\n",
    "    return a"
   ]
  },
  {
   "cell_type": "code",
   "execution_count": 14,
   "id": "6568f017",
   "metadata": {},
   "outputs": [
    {
     "name": "stdout",
     "output_type": "stream",
     "text": [
      "tensor(0.5324)\n",
      "tensor(0.8744)\n",
      "tensor(0.9181)\n",
      "tensor(0.9352)\n",
      "tensor(0.9426)\n",
      "tensor(0.9465)\n",
      "tensor(0.9509)\n",
      "tensor(0.9573)\n",
      "tensor(0.9603)\n",
      "tensor(0.9627)\n",
      "tensor(0.9637)\n",
      "tensor(0.9642)\n",
      "tensor(0.9642)\n",
      "tensor(0.9657)\n",
      "tensor(0.9661)\n",
      "tensor(0.9666)\n",
      "tensor(0.9671)\n",
      "tensor(0.9676)\n",
      "tensor(0.9676)\n",
      "tensor(0.9686)\n",
      "tensor(0.9681)\n",
      "tensor(0.9686)\n",
      "tensor(0.9691)\n",
      "tensor(0.9696)\n",
      "tensor(0.9696)\n",
      "tensor(0.9696)\n",
      "tensor(0.9696)\n",
      "tensor(0.9691)\n",
      "tensor(0.9691)\n",
      "tensor(0.9686)\n",
      "tensor(0.9691)\n",
      "tensor(0.9701)\n",
      "tensor(0.9706)\n",
      "tensor(0.9706)\n",
      "tensor(0.9706)\n",
      "tensor(0.9720)\n",
      "tensor(0.9720)\n",
      "tensor(0.9720)\n",
      "tensor(0.9735)\n",
      "tensor(0.9735)\n",
      "tensor(0.9740)\n",
      "tensor(0.9740)\n",
      "tensor(0.9740)\n",
      "tensor(0.9745)\n",
      "tensor(0.9745)\n",
      "tensor(0.9745)\n",
      "tensor(0.9745)\n",
      "tensor(0.9750)\n",
      "tensor(0.9750)\n",
      "tensor(0.9755)\n"
     ]
    }
   ],
   "source": [
    "lr = 0.5\n",
    "for _ in range(50):\n",
    "    print(validate_epoch(linear1))\n",
    "    params = (weights, bias)\n",
    "    train_epoch(linear1, lr, params)"
   ]
  },
  {
   "cell_type": "code",
   "execution_count": 15,
   "id": "e13b2562",
   "metadata": {},
   "outputs": [
    {
     "name": "stdout",
     "output_type": "stream",
     "text": [
      "tensor(0.5236)\n",
      "tensor(0.8032)\n",
      "tensor(0.8901)\n",
      "tensor(0.9225)\n",
      "tensor(0.9372)\n",
      "tensor(0.9426)\n",
      "tensor(0.9460)\n",
      "tensor(0.9470)\n",
      "tensor(0.9495)\n"
     ]
    }
   ],
   "source": [
    "lr = 0.5\n",
    "weights = init_params((28*28, 1))\n",
    "bias = init_params(1)\n",
    "\n",
    "for _ in range(9):\n",
    "    pred = linear1(X_valid)\n",
    "    pred = pred.sigmoid()\n",
    "    a = ((pred>0.5) == y_valid).float().mean()\n",
    "    print(a)\n",
    "    for X, y in DataLoader(train_dset, batch_size=256, shuffle=True):\n",
    "        pred = linear1(X)\n",
    "        loss = mnist_loss(pred, y)\n",
    "        loss.backward()\n",
    "        weights.data -= weights.grad*lr\n",
    "        bias.data -= bias.grad*lr\n",
    "        weights.grad.zero_()\n",
    "        bias.grad.zero_()\n",
    "\n",
    "#    print(weights.mean(), bias)"
   ]
  },
  {
   "cell_type": "code",
   "execution_count": 16,
   "id": "0f0ac3aa",
   "metadata": {},
   "outputs": [
    {
     "name": "stdout",
     "output_type": "stream",
     "text": [
      "tensor(0.5309)\n",
      "tensor(0.8499)\n",
      "tensor(0.9225)\n",
      "tensor(0.9372)\n",
      "tensor(0.9416)\n",
      "tensor(0.9431)\n",
      "tensor(0.9495)\n",
      "tensor(0.9534)\n",
      "tensor(0.9549)\n"
     ]
    }
   ],
   "source": [
    "lr = 0.5\n",
    "weights = init_params((28*28, 1))\n",
    "bias = init_params(1)\n",
    "\n",
    "for _ in range(9):\n",
    "    pred = X_valid@weights + bias\n",
    "    pred = (lambda x: 1/(1+torch.exp(-x)))(pred)\n",
    "    a = ((pred>0.5) == y_valid).float().mean()\n",
    "    print(a)\n",
    "    for X, y in DataLoader(train_dset, batch_size=256, shuffle=True):\n",
    "        pred = X@weights + bias\n",
    "        pred = (lambda x: 1/(1+torch.exp(-x)))(pred)\n",
    "        loss = torch.where(y==1, 1 - pred, pred).mean()\n",
    "        loss.backward()\n",
    "        weights.data -= weights.grad*lr\n",
    "        bias.data -= bias.grad*lr\n",
    "        weights.grad.zero_()\n",
    "        bias.grad.zero_()\n",
    "#    print(weights.mean(), bias)"
   ]
  },
  {
   "cell_type": "code",
   "execution_count": 17,
   "id": "8e8479e2",
   "metadata": {},
   "outputs": [],
   "source": [
    "linear_model = nn.Linear(28*28, 1)"
   ]
  },
  {
   "cell_type": "code",
   "execution_count": 18,
   "id": "3df24b18",
   "metadata": {},
   "outputs": [],
   "source": [
    "w, b = linear_model.parameters()"
   ]
  },
  {
   "cell_type": "code",
   "execution_count": 19,
   "id": "190359d2",
   "metadata": {},
   "outputs": [
    {
     "name": "stdout",
     "output_type": "stream",
     "text": [
      "tensor(0.3121)\n",
      "tensor(0.9696)\n",
      "tensor(0.9720)\n",
      "tensor(0.9745)\n",
      "tensor(0.9760)\n",
      "tensor(0.9764)\n",
      "tensor(0.9764)\n",
      "tensor(0.9764)\n",
      "tensor(0.9764)\n",
      "tensor(0.9779)\n",
      "tensor(0.9784)\n",
      "tensor(0.9789)\n",
      "tensor(0.9789)\n",
      "tensor(0.9799)\n",
      "tensor(0.9794)\n",
      "tensor(0.9794)\n",
      "tensor(0.9799)\n",
      "tensor(0.9794)\n",
      "tensor(0.9804)\n",
      "tensor(0.9804)\n",
      "tensor(0.9804)\n",
      "tensor(0.9804)\n",
      "tensor(0.9804)\n",
      "tensor(0.9809)\n",
      "tensor(0.9814)\n",
      "tensor(0.9814)\n",
      "tensor(0.9814)\n",
      "tensor(0.9818)\n",
      "tensor(0.9818)\n",
      "tensor(0.9828)\n",
      "tensor(0.9818)\n",
      "tensor(0.9818)\n",
      "tensor(0.9818)\n",
      "tensor(0.9818)\n",
      "tensor(0.9823)\n",
      "tensor(0.9823)\n",
      "tensor(0.9818)\n",
      "tensor(0.9818)\n",
      "tensor(0.9823)\n",
      "tensor(0.9818)\n",
      "tensor(0.9818)\n",
      "tensor(0.9818)\n",
      "tensor(0.9818)\n",
      "tensor(0.9823)\n",
      "tensor(0.9818)\n",
      "tensor(0.9818)\n",
      "tensor(0.9833)\n",
      "tensor(0.9818)\n",
      "tensor(0.9828)\n",
      "tensor(0.9823)\n"
     ]
    }
   ],
   "source": [
    "lr = 0.5\n",
    "for _ in range(50):\n",
    "    print(validate_epoch(linear_model))\n",
    "    params = (w, b)\n",
    "    train_epoch(linear_model, lr, params)"
   ]
  },
  {
   "cell_type": "code",
   "execution_count": 20,
   "id": "325dd1f9",
   "metadata": {},
   "outputs": [],
   "source": [
    "class BasicOptim:\n",
    "    def __init__(self, params, lr): \n",
    "        self.params = list(params)\n",
    "        self.lr = lr\n",
    "    \n",
    "    def step(self, *args, **kwards):\n",
    "        for p in self.params:\n",
    "            p.data -= p.grad.data * self.lr\n",
    "            \n",
    "    def zero_grad(self, *args, **kwargs):\n",
    "        for p in self.params:\n",
    "            p.grad = None\n",
    "\n",
    "opt = BasicOptim(linear_model.parameters(), lr)"
   ]
  },
  {
   "cell_type": "code",
   "execution_count": 21,
   "id": "42bc36b9",
   "metadata": {},
   "outputs": [],
   "source": [
    "def train_epoch(model):\n",
    "    for xb, yb in dl:\n",
    "        calc_grad(xb, yb, model)\n",
    "        opt.step()\n",
    "        opt.zero_grad()\n",
    "        \n",
    "#train_epoch(nn.Linear(28*28, 1))"
   ]
  },
  {
   "cell_type": "code",
   "execution_count": 22,
   "id": "d4c090ab",
   "metadata": {},
   "outputs": [],
   "source": [
    "def train_model(model, epochs):\n",
    "    for _ in range(epochs):\n",
    "        print(validate_epoch(model), end=' ')\n",
    "        train_epoch(model)"
   ]
  },
  {
   "cell_type": "code",
   "execution_count": 23,
   "id": "f7d2ed2c",
   "metadata": {},
   "outputs": [
    {
     "name": "stdout",
     "output_type": "stream",
     "text": [
      "tensor(0.6178) tensor(0.9671) tensor(0.9725) tensor(0.9740) tensor(0.9760) tensor(0.9760) tensor(0.9760) tensor(0.9769) tensor(0.9774) tensor(0.9784) tensor(0.9784) tensor(0.9774) tensor(0.9794) tensor(0.9794) tensor(0.9794) tensor(0.9794) tensor(0.9789) tensor(0.9794) tensor(0.9799) tensor(0.9794) "
     ]
    }
   ],
   "source": [
    "model = nn.Linear(28*28, 1)\n",
    "opt = BasicOptim(model.parameters(), 0.5)\n",
    "train_model(model, 20)"
   ]
  },
  {
   "cell_type": "code",
   "execution_count": 24,
   "id": "9439a94c",
   "metadata": {},
   "outputs": [
    {
     "name": "stdout",
     "output_type": "stream",
     "text": [
      "tensor(0.5525) tensor(0.9696) tensor(0.9711) tensor(0.9730) tensor(0.9760) tensor(0.9764) tensor(0.9769) tensor(0.9774) tensor(0.9774) tensor(0.9774) tensor(0.9774) tensor(0.9779) tensor(0.9774) tensor(0.9784) tensor(0.9789) tensor(0.9794) tensor(0.9789) tensor(0.9794) tensor(0.9799) tensor(0.9799) "
     ]
    }
   ],
   "source": [
    "model = nn.Linear(28*28, 1)\n",
    "opt = SGD(model.parameters(), 0.5)\n",
    "train_model(model, 20)"
   ]
  },
  {
   "cell_type": "code",
   "execution_count": 25,
   "id": "163083f3",
   "metadata": {},
   "outputs": [],
   "source": [
    "dl_valid = DataLoader(valid_dset, batch_size=256)\n",
    "dls = DataLoaders(dl, dl_valid)"
   ]
  },
  {
   "cell_type": "code",
   "execution_count": 26,
   "id": "52293944",
   "metadata": {},
   "outputs": [
    {
     "data": {
      "text/html": [
       "\n",
       "<style>\n",
       "    /* Turns off some styling */\n",
       "    progress {\n",
       "        /* gets rid of default border in Firefox and Opera. */\n",
       "        border: none;\n",
       "        /* Needs to be in here for Safari polyfill so background images work as expected. */\n",
       "        background-size: auto;\n",
       "    }\n",
       "    progress:not([value]), progress:not([value])::-webkit-progress-bar {\n",
       "        background: repeating-linear-gradient(45deg, #7e7e7e, #7e7e7e 10px, #5c5c5c 10px, #5c5c5c 20px);\n",
       "    }\n",
       "    .progress-bar-interrupted, .progress-bar-interrupted::-webkit-progress-bar {\n",
       "        background: #F44336;\n",
       "    }\n",
       "</style>\n"
      ],
      "text/plain": [
       "<IPython.core.display.HTML object>"
      ]
     },
     "metadata": {},
     "output_type": "display_data"
    },
    {
     "data": {
      "text/html": [
       "<table border=\"1\" class=\"dataframe\">\n",
       "  <thead>\n",
       "    <tr style=\"text-align: left;\">\n",
       "      <th>epoch</th>\n",
       "      <th>train_loss</th>\n",
       "      <th>valid_loss</th>\n",
       "      <th>batch_accuracy</th>\n",
       "      <th>time</th>\n",
       "    </tr>\n",
       "  </thead>\n",
       "  <tbody>\n",
       "    <tr>\n",
       "      <td>0</td>\n",
       "      <td>0.058596</td>\n",
       "      <td>0.042104</td>\n",
       "      <td>0.969578</td>\n",
       "      <td>00:00</td>\n",
       "    </tr>\n",
       "    <tr>\n",
       "      <td>1</td>\n",
       "      <td>0.040727</td>\n",
       "      <td>0.034707</td>\n",
       "      <td>0.974975</td>\n",
       "      <td>00:00</td>\n",
       "    </tr>\n",
       "    <tr>\n",
       "      <td>2</td>\n",
       "      <td>0.033076</td>\n",
       "      <td>0.032397</td>\n",
       "      <td>0.974975</td>\n",
       "      <td>00:00</td>\n",
       "    </tr>\n",
       "    <tr>\n",
       "      <td>3</td>\n",
       "      <td>0.028331</td>\n",
       "      <td>0.030129</td>\n",
       "      <td>0.976448</td>\n",
       "      <td>00:00</td>\n",
       "    </tr>\n",
       "    <tr>\n",
       "      <td>4</td>\n",
       "      <td>0.025582</td>\n",
       "      <td>0.028329</td>\n",
       "      <td>0.977920</td>\n",
       "      <td>00:00</td>\n",
       "    </tr>\n",
       "    <tr>\n",
       "      <td>5</td>\n",
       "      <td>0.023752</td>\n",
       "      <td>0.028451</td>\n",
       "      <td>0.976448</td>\n",
       "      <td>00:00</td>\n",
       "    </tr>\n",
       "    <tr>\n",
       "      <td>6</td>\n",
       "      <td>0.022306</td>\n",
       "      <td>0.026680</td>\n",
       "      <td>0.979392</td>\n",
       "      <td>00:00</td>\n",
       "    </tr>\n",
       "    <tr>\n",
       "      <td>7</td>\n",
       "      <td>0.021598</td>\n",
       "      <td>0.025985</td>\n",
       "      <td>0.978901</td>\n",
       "      <td>00:00</td>\n",
       "    </tr>\n",
       "    <tr>\n",
       "      <td>8</td>\n",
       "      <td>0.020859</td>\n",
       "      <td>0.025078</td>\n",
       "      <td>0.980373</td>\n",
       "      <td>00:00</td>\n",
       "    </tr>\n",
       "    <tr>\n",
       "      <td>9</td>\n",
       "      <td>0.020002</td>\n",
       "      <td>0.024641</td>\n",
       "      <td>0.980373</td>\n",
       "      <td>00:00</td>\n",
       "    </tr>\n",
       "  </tbody>\n",
       "</table>"
      ],
      "text/plain": [
       "<IPython.core.display.HTML object>"
      ]
     },
     "metadata": {},
     "output_type": "display_data"
    }
   ],
   "source": [
    "model = nn.Linear(28*28, 1)\n",
    "learn = Learner(dls, model, loss_func=mnist_loss, opt_func=SGD, lr=1., metrics=batch_accuracy)\n",
    "\n",
    "learn.fit(10)"
   ]
  },
  {
   "cell_type": "code",
   "execution_count": 34,
   "id": "c828238e",
   "metadata": {},
   "outputs": [
    {
     "data": {
      "text/html": [
       "\n",
       "<style>\n",
       "    /* Turns off some styling */\n",
       "    progress {\n",
       "        /* gets rid of default border in Firefox and Opera. */\n",
       "        border: none;\n",
       "        /* Needs to be in here for Safari polyfill so background images work as expected. */\n",
       "        background-size: auto;\n",
       "    }\n",
       "    progress:not([value]), progress:not([value])::-webkit-progress-bar {\n",
       "        background: repeating-linear-gradient(45deg, #7e7e7e, #7e7e7e 10px, #5c5c5c 10px, #5c5c5c 20px);\n",
       "    }\n",
       "    .progress-bar-interrupted, .progress-bar-interrupted::-webkit-progress-bar {\n",
       "        background: #F44336;\n",
       "    }\n",
       "</style>\n"
      ],
      "text/plain": [
       "<IPython.core.display.HTML object>"
      ]
     },
     "metadata": {},
     "output_type": "display_data"
    },
    {
     "data": {
      "text/html": [
       "<table border=\"1\" class=\"dataframe\">\n",
       "  <thead>\n",
       "    <tr style=\"text-align: left;\">\n",
       "      <th>epoch</th>\n",
       "      <th>train_loss</th>\n",
       "      <th>valid_loss</th>\n",
       "      <th>batch_accuracy</th>\n",
       "      <th>time</th>\n",
       "    </tr>\n",
       "  </thead>\n",
       "  <tbody>\n",
       "    <tr>\n",
       "      <td>0</td>\n",
       "      <td>0.499809</td>\n",
       "      <td>0.499466</td>\n",
       "      <td>0.504416</td>\n",
       "      <td>00:00</td>\n",
       "    </tr>\n",
       "    <tr>\n",
       "      <td>1</td>\n",
       "      <td>0.499082</td>\n",
       "      <td>0.498026</td>\n",
       "      <td>0.504416</td>\n",
       "      <td>00:00</td>\n",
       "    </tr>\n",
       "    <tr>\n",
       "      <td>2</td>\n",
       "      <td>0.496811</td>\n",
       "      <td>0.497235</td>\n",
       "      <td>0.504416</td>\n",
       "      <td>00:00</td>\n",
       "    </tr>\n",
       "    <tr>\n",
       "      <td>3</td>\n",
       "      <td>0.497690</td>\n",
       "      <td>0.496712</td>\n",
       "      <td>0.504416</td>\n",
       "      <td>00:00</td>\n",
       "    </tr>\n",
       "    <tr>\n",
       "      <td>4</td>\n",
       "      <td>0.496098</td>\n",
       "      <td>0.496369</td>\n",
       "      <td>0.504416</td>\n",
       "      <td>00:00</td>\n",
       "    </tr>\n",
       "    <tr>\n",
       "      <td>5</td>\n",
       "      <td>0.495127</td>\n",
       "      <td>0.496195</td>\n",
       "      <td>0.504416</td>\n",
       "      <td>00:00</td>\n",
       "    </tr>\n",
       "    <tr>\n",
       "      <td>6</td>\n",
       "      <td>0.496633</td>\n",
       "      <td>0.496073</td>\n",
       "      <td>0.504416</td>\n",
       "      <td>00:00</td>\n",
       "    </tr>\n",
       "    <tr>\n",
       "      <td>7</td>\n",
       "      <td>0.495348</td>\n",
       "      <td>0.495991</td>\n",
       "      <td>0.504416</td>\n",
       "      <td>00:00</td>\n",
       "    </tr>\n",
       "    <tr>\n",
       "      <td>8</td>\n",
       "      <td>0.494175</td>\n",
       "      <td>0.495930</td>\n",
       "      <td>0.504416</td>\n",
       "      <td>00:00</td>\n",
       "    </tr>\n",
       "    <tr>\n",
       "      <td>9</td>\n",
       "      <td>0.494660</td>\n",
       "      <td>0.495899</td>\n",
       "      <td>0.504416</td>\n",
       "      <td>00:00</td>\n",
       "    </tr>\n",
       "  </tbody>\n",
       "</table>"
      ],
      "text/plain": [
       "<IPython.core.display.HTML object>"
      ]
     },
     "metadata": {},
     "output_type": "display_data"
    }
   ],
   "source": [
    "model = nn.Sequential(\n",
    "    nn.Linear(28*28, 30),\n",
    "    nn.ReLU(),\n",
    "    nn.Linear(30, 1))\n",
    "\n",
    "learn = Learner(dls, model, loss_func=mnist_loss, opt_func=SGD, lr=1., metrics=batch_accuracy)\n",
    "\n",
    "learn.fit(10)"
   ]
  },
  {
   "cell_type": "code",
   "execution_count": 29,
   "id": "a438b473",
   "metadata": {},
   "outputs": [
    {
     "data": {
      "image/png": "[encoded data removed]",
      "text/plain": [
       "<Figure size 432x288 with 1 Axes>"
      ]
     },
     "metadata": {
      "needs_background": "light"
     },
     "output_type": "display_data"
    }
   ],
   "source": [
    "for i in range(2):\n",
    "    plt.plot(L(learn.recorder.values).itemgot(i))"
   ]
  },
  {
   "cell_type": "code",
   "execution_count": 30,
   "id": "3ccc6e79",
   "metadata": {},
   "outputs": [
    {
     "data": {
      "text/plain": [
       "[<matplotlib.lines.Line2D at 0x7f908bfa76d0>]"
      ]
     },
     "execution_count": 30,
     "metadata": {},
     "output_type": "execute_result"
    },
    {
     "data": {
      "image/png": "[encoded data removed]",
      "text/plain": [
       "<Figure size 432x288 with 1 Axes>"
      ]
     },
     "metadata": {
      "needs_background": "light"
     },
     "output_type": "display_data"
    }
   ],
   "source": [
    "plt.plot(L(learn.recorder.values).itemgot(2))"
   ]
  },
  {
   "cell_type": "code",
   "execution_count": null,
   "id": "657e8936",
   "metadata": {},
   "outputs": [],
   "source": []
  }
 ],
 "metadata": {
  "kernelspec": {
   "display_name": "Python 3 (ipykernel)",
   "language": "python",
   "name": "python3"
  },
  "language_info": {
   "codemirror_mode": {
    "name": "ipython",
    "version": 3
   },
   "file_extension": ".py",
   "mimetype": "text/x-python",
   "name": "python",
   "nbconvert_exporter": "python",
   "pygments_lexer": "ipython3",
   "version": "3.9.13"
  }
 },
 "nbformat": 4,
 "nbformat_minor": 5
}
