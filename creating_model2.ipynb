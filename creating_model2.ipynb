{
 "cells": [
  {
   "cell_type": "code",
   "execution_count": 1,
   "id": "0c8784d4",
   "metadata": {},
   "outputs": [
    {
     "name": "stderr",
     "output_type": "stream",
     "text": [
      "/home/haru/mambaforge/lib/python3.9/site-packages/torchvision/io/image.py:13: UserWarning: Failed to load image Python extension: libc10_cuda.so: cannot open shared object file: No such file or directory\n",
      "  warn(f\"Failed to load image Python extension: {e}\")\n"
     ]
    }
   ],
   "source": [
    "from fastai.vision.all import *"
   ]
  },
  {
   "cell_type": "code",
   "execution_count": 2,
   "id": "63aeb0d6",
   "metadata": {},
   "outputs": [],
   "source": [
    "path = untar_data(URLs.MNIST_SAMPLE)\n",
    "Path.BASE_PATH = path"
   ]
  },
  {
   "cell_type": "code",
   "execution_count": 3,
   "id": "5a456461",
   "metadata": {},
   "outputs": [],
   "source": [
    "three_trained = torch.stack([tensor(Image.open(o)) for o in (path/'train'/'3').ls()])/255.\n",
    "seven_trained = torch.stack([tensor(Image.open(o)) for o in (path/'train'/'7').ls()])/255.\n",
    "three_valid = torch.stack([tensor(Image.open(o)) for o in (path/'valid'/'3').ls()])/255.\n",
    "seven_valid = torch.stack([tensor(Image.open(o)) for o in (path/'valid'/'7').ls()])/255.\n",
    "\n",
    "X_train = torch.cat([three_trained, seven_trained]).reshape(-1, 28*28)\n",
    "y_train = tensor([1]*len(three_trained) + [0]*len(seven_trained)).reshape(-1, 1)\n",
    "train_dset = list(zip(X_train, y_train))\n",
    "\n",
    "X_valid = torch.cat([three_valid, seven_valid]).reshape(-1, 28*28)\n",
    "y_valid = tensor([1]*len(three_valid) + [0]*len(seven_valid)).reshape(-1, 1)\n",
    "valid_dset = list(zip(X_valid, y_valid))"
   ]
  },
  {
   "cell_type": "code",
   "execution_count": 4,
   "id": "bbd0611f",
   "metadata": {},
   "outputs": [],
   "source": [
    "dl = DataLoader(train_dset, batch_size=256, shuffle=True)\n",
    "dl_valid = DataLoader(valid_dset, batch_size=256)"
   ]
  },
  {
   "cell_type": "code",
   "execution_count": 5,
   "id": "898870c1",
   "metadata": {},
   "outputs": [],
   "source": [
    "dls = DataLoaders(dl, dl_valid)"
   ]
  },
  {
   "cell_type": "code",
   "execution_count": 34,
   "id": "1c8030b6",
   "metadata": {},
   "outputs": [],
   "source": [
    "def dl(p, shuffle=False):\n",
    "    def f(x):\n",
    "        return [tensor(Image.open(o)) for o in (x).ls()]\n",
    "    X3 = torch.stack(f(path/p/'3'))\n",
    "    X7 = torch.stack(f(path/p/'7'))\n",
    "    y = tensor([1]*len(X3) + [0]*len(X7)).reshape(-1, 1)\n",
    "    y1 = tensor([1]*len(X3) + [0]*len(X7))\n",
    "    X = torch.cat([X3, X7]).view(-1, 28*28)/255.\n",
    "    ds = list(zip(X, y))\n",
    "    ds1 = list(zip(X, y1))\n",
    "    for i, (a, b) in enumerate(zip(ds, ds1)):\n",
    "        if not (a[0]==b[0]).all():\n",
    "            print(i)\n",
    "        if not (a[1]==b[1]).all():\n",
    "            print(i)\n",
    "    dl = DataLoader(ds, batch_size=256, shuffle=shuffle)\n",
    "    return dl\n",
    "\n",
    "dls = DataLoaders(dl('train', shuffle=True), dl('valid'))"
   ]
  },
  {
   "cell_type": "code",
   "execution_count": 7,
   "id": "bd538aad",
   "metadata": {},
   "outputs": [],
   "source": [
    "def mnist_loss(pred, targ):\n",
    "    pred = pred.sigmoid()\n",
    "    return torch.where(targ==1, 1 - pred, pred).mean()\n",
    "\n",
    "def batch_accuracy(pred, targ):\n",
    "    return ((pred>0.)==targ).float().mean()"
   ]
  },
  {
   "cell_type": "code",
   "execution_count": 35,
   "id": "f0a3e37c",
   "metadata": {},
   "outputs": [
    {
     "data": {
      "text/html": [
       "\n",
       "<style>\n",
       "    /* Turns off some styling */\n",
       "    progress {\n",
       "        /* gets rid of default border in Firefox and Opera. */\n",
       "        border: none;\n",
       "        /* Needs to be in here for Safari polyfill so background images work as expected. */\n",
       "        background-size: auto;\n",
       "    }\n",
       "    progress:not([value]), progress:not([value])::-webkit-progress-bar {\n",
       "        background: repeating-linear-gradient(45deg, #7e7e7e, #7e7e7e 10px, #5c5c5c 10px, #5c5c5c 20px);\n",
       "    }\n",
       "    .progress-bar-interrupted, .progress-bar-interrupted::-webkit-progress-bar {\n",
       "        background: #F44336;\n",
       "    }\n",
       "</style>\n"
      ],
      "text/plain": [
       "<IPython.core.display.HTML object>"
      ]
     },
     "metadata": {},
     "output_type": "display_data"
    },
    {
     "data": {
      "text/html": [
       "<table border=\"1\" class=\"dataframe\">\n",
       "  <thead>\n",
       "    <tr style=\"text-align: left;\">\n",
       "      <th>epoch</th>\n",
       "      <th>train_loss</th>\n",
       "      <th>valid_loss</th>\n",
       "      <th>batch_accuracy</th>\n",
       "      <th>time</th>\n",
       "    </tr>\n",
       "  </thead>\n",
       "  <tbody>\n",
       "    <tr>\n",
       "      <td>0</td>\n",
       "      <td>0.158316</td>\n",
       "      <td>0.061910</td>\n",
       "      <td>0.969087</td>\n",
       "      <td>00:00</td>\n",
       "    </tr>\n",
       "    <tr>\n",
       "      <td>1</td>\n",
       "      <td>0.072575</td>\n",
       "      <td>0.038065</td>\n",
       "      <td>0.974485</td>\n",
       "      <td>00:00</td>\n",
       "    </tr>\n",
       "    <tr>\n",
       "      <td>2</td>\n",
       "      <td>0.043166</td>\n",
       "      <td>0.029610</td>\n",
       "      <td>0.977920</td>\n",
       "      <td>00:00</td>\n",
       "    </tr>\n",
       "    <tr>\n",
       "      <td>3</td>\n",
       "      <td>0.029809</td>\n",
       "      <td>0.025430</td>\n",
       "      <td>0.979882</td>\n",
       "      <td>00:00</td>\n",
       "    </tr>\n",
       "    <tr>\n",
       "      <td>4</td>\n",
       "      <td>0.022952</td>\n",
       "      <td>0.022230</td>\n",
       "      <td>0.983317</td>\n",
       "      <td>00:00</td>\n",
       "    </tr>\n",
       "    <tr>\n",
       "      <td>5</td>\n",
       "      <td>0.019190</td>\n",
       "      <td>0.020424</td>\n",
       "      <td>0.984298</td>\n",
       "      <td>00:00</td>\n",
       "    </tr>\n",
       "    <tr>\n",
       "      <td>6</td>\n",
       "      <td>0.016607</td>\n",
       "      <td>0.018710</td>\n",
       "      <td>0.984789</td>\n",
       "      <td>00:00</td>\n",
       "    </tr>\n",
       "    <tr>\n",
       "      <td>7</td>\n",
       "      <td>0.015253</td>\n",
       "      <td>0.018397</td>\n",
       "      <td>0.984298</td>\n",
       "      <td>00:00</td>\n",
       "    </tr>\n",
       "    <tr>\n",
       "      <td>8</td>\n",
       "      <td>0.014054</td>\n",
       "      <td>0.017153</td>\n",
       "      <td>0.984789</td>\n",
       "      <td>00:00</td>\n",
       "    </tr>\n",
       "    <tr>\n",
       "      <td>9</td>\n",
       "      <td>0.013139</td>\n",
       "      <td>0.016817</td>\n",
       "      <td>0.984789</td>\n",
       "      <td>00:00</td>\n",
       "    </tr>\n",
       "  </tbody>\n",
       "</table>"
      ],
      "text/plain": [
       "<IPython.core.display.HTML object>"
      ]
     },
     "metadata": {},
     "output_type": "display_data"
    }
   ],
   "source": [
    "model = nn.Sequential(\n",
    "    nn.Linear(28*28, 30),\n",
    "    nn.ReLU(),\n",
    "    nn.Linear(30, 1))\n",
    "learn = Learner(dls, model, loss_func=mnist_loss, metrics=batch_accuracy)\n",
    "learn.fit(10)"
   ]
  },
  {
   "cell_type": "code",
   "execution_count": null,
   "id": "3e65a091",
   "metadata": {},
   "outputs": [],
   "source": []
  }
 ],
 "metadata": {
  "kernelspec": {
   "display_name": "Python 3 (ipykernel)",
   "language": "python",
   "name": "python3"
  },
  "language_info": {
   "codemirror_mode": {
    "name": "ipython",
    "version": 3
   },
   "file_extension": ".py",
   "mimetype": "text/x-python",
   "name": "python",
   "nbconvert_exporter": "python",
   "pygments_lexer": "ipython3",
   "version": "3.9.13"
  }
 },
 "nbformat": 4,
 "nbformat_minor": 5
}
