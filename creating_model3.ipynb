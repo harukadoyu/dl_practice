{
 "cells": [
  {
   "cell_type": "code",
   "execution_count": 1,
   "id": "87314321-5edc-4a27-9209-01d7c1cdd19e",
   "metadata": {},
   "outputs": [],
   "source": [
    "from fastai.vision.all import *"
   ]
  },
  {
   "cell_type": "code",
   "execution_count": 2,
   "id": "cb83dd13-e031-4a1b-8f54-f502c2ccbe37",
   "metadata": {},
   "outputs": [],
   "source": [
    "path = untar_data(URLs.MNIST_SAMPLE)\n",
    "Path.BASE_PATH = path"
   ]
  },
  {
   "cell_type": "code",
   "execution_count": 3,
   "id": "ea587ac4-541e-4501-b478-776ec496029b",
   "metadata": {},
   "outputs": [
    {
     "data": {
      "text/plain": [
       "(#3) [Path('train'),Path('labels.csv'),Path('valid')]"
      ]
     },
     "execution_count": 3,
     "metadata": {},
     "output_type": "execute_result"
    }
   ],
   "source": [
    "path.ls()"
   ]
  },
  {
   "cell_type": "code",
   "execution_count": 91,
   "id": "153775be-ed73-448d-9026-a9c4746e676c",
   "metadata": {},
   "outputs": [],
   "source": [
    "three = torch.stack([tensor(Image.open(im)) for im in (path/'valid'/'3').ls()])/255.\n",
    "seven = torch.stack([tensor(Image.open(im)) for im in (path/'valid'/'7').ls()])/255.\n",
    "X_valid = torch.cat([three, seven]).reshape(-1, 28*28)\n",
    "y_valid = torch.tensor([1]*len(three) + [0]*len(seven)).reshape(-1, 1)\n",
    "dset_valid = list(zip(X_valid, y_valid))"
   ]
  },
  {
   "cell_type": "code",
   "execution_count": 77,
   "id": "1d6e7d5e-e04a-4d33-87e1-6708f870ed5a",
   "metadata": {},
   "outputs": [],
   "source": [
    "def create_dataloader(data, shuffle=False):\n",
    "    three = torch.stack([tensor(Image.open(im)) for im in (path/data/'3').ls()])/255.\n",
    "    seven = torch.stack([tensor(Image.open(im)) for im in (path/data/'7').ls()])/255.\n",
    "    X_train = torch.cat([three, seven]).reshape(-1, 28*28)\n",
    "    y_train = torch.tensor([1]*len(three) + [0]*len(seven)).reshape(-1, 1)\n",
    "    dset = list(zip(X_train, y_train))\n",
    "    return DataLoader(dset, batch_size=256, shuffle=shuffle)"
   ]
  },
  {
   "cell_type": "code",
   "execution_count": 104,
   "id": "c86f7439-e22c-46c8-9940-dce56ca5fdba",
   "metadata": {},
   "outputs": [],
   "source": [
    "def init_params():\n",
    "    std = 1.0\n",
    "    weight = (torch.randn(28*28, 1)*std).requires_grad_()\n",
    "    bias = (torch.randn(1)*std).requires_grad_()\n",
    "    return [weight, bias]"
   ]
  },
  {
   "cell_type": "code",
   "execution_count": 105,
   "id": "a9ca7188-2515-4286-9e6d-c28b717a26e9",
   "metadata": {},
   "outputs": [],
   "source": [
    "def linear1(x):\n",
    "    return x@weight + bias"
   ]
  },
  {
   "cell_type": "code",
   "execution_count": 106,
   "id": "6d57b9a6-912e-468e-942b-e1e4b2098646",
   "metadata": {},
   "outputs": [],
   "source": [
    "def calc_loss(pred, y):\n",
    "    pred = (lambda x: 1/(1 + torch.exp(-x)))(pred)\n",
    "    return torch.where(y==1, 1 - pred, pred).mean()"
   ]
  },
  {
   "cell_type": "code",
   "execution_count": 107,
   "id": "00af26dd-1f9a-417a-8210-089a08f5357f",
   "metadata": {},
   "outputs": [],
   "source": [
    "def calc_accuracy(pred, y):\n",
    "    pred = (lambda x: 1/(1 + torch.exp(-x)))(pred)\n",
    "    return ((pred>0.5)==y).float().mean()"
   ]
  },
  {
   "cell_type": "code",
   "execution_count": 108,
   "id": "40a8e6b9-92d6-4359-9e90-abe102173cee",
   "metadata": {},
   "outputs": [],
   "source": [
    "def train_epoch(dl, lr):\n",
    "    acc = calc_accuracy(linear1(X_valid), y_valid)\n",
    "    print(acc)\n",
    "    for X, y in dl:\n",
    "        pred = linear1(X)\n",
    "        loss = calc_loss(pred, y)\n",
    "        loss.backward()\n",
    "        for p in weight, bias:\n",
    "            p.data -= p.grad*lr\n",
    "            p.grad = None"
   ]
  },
  {
   "cell_type": "code",
   "execution_count": 109,
   "id": "3d3f27be-254c-4db5-affb-13c3f1477a16",
   "metadata": {},
   "outputs": [],
   "source": [
    "dl = create_dataloader('train', shuffle=True)\n",
    "dl_valid = create_dataloader('valid')\n",
    "lr = 1."
   ]
  },
  {
   "cell_type": "code",
   "execution_count": 124,
   "id": "3fb605d4-19ff-4529-a602-eaf1c0695379",
   "metadata": {},
   "outputs": [
    {
     "name": "stdout",
     "output_type": "stream",
     "text": [
      "tensor(0.5015)\n",
      "tensor(0.9151)\n",
      "tensor(0.9362)\n",
      "tensor(0.9436)\n",
      "tensor(0.9504)\n",
      "tensor(0.9519)\n",
      "tensor(0.9539)\n",
      "tensor(0.9539)\n",
      "tensor(0.9544)\n",
      "tensor(0.9563)\n",
      "tensor(0.9578)\n",
      "tensor(0.9573)\n",
      "tensor(0.9588)\n",
      "tensor(0.9612)\n",
      "tensor(0.9627)\n",
      "tensor(0.9632)\n",
      "tensor(0.9647)\n",
      "tensor(0.9642)\n",
      "tensor(0.9652)\n",
      "tensor(0.9652)\n",
      "tensor(0.9657)\n",
      "tensor(0.9657)\n",
      "tensor(0.9666)\n",
      "tensor(0.9671)\n",
      "tensor(0.9676)\n",
      "tensor(0.9681)\n",
      "tensor(0.9691)\n",
      "tensor(0.9701)\n",
      "tensor(0.9701)\n",
      "tensor(0.9706)\n"
     ]
    }
   ],
   "source": [
    "weight, bias = init_params()\n",
    "\n",
    "for _ in range(30):\n",
    "    train_epoch(dl, lr)"
   ]
  },
  {
   "cell_type": "code",
   "execution_count": 126,
   "id": "46cfff4a-df12-4863-912c-e1f1d7e72a40",
   "metadata": {},
   "outputs": [
    {
     "data": {
      "text/html": [
       "\n",
       "<style>\n",
       "    /* Turns off some styling */\n",
       "    progress {\n",
       "        /* gets rid of default border in Firefox and Opera. */\n",
       "        border: none;\n",
       "        /* Needs to be in here for Safari polyfill so background images work as expected. */\n",
       "        background-size: auto;\n",
       "    }\n",
       "    .progress-bar-interrupted, .progress-bar-interrupted::-webkit-progress-bar {\n",
       "        background: #F44336;\n",
       "    }\n",
       "</style>\n"
      ],
      "text/plain": [
       "<IPython.core.display.HTML object>"
      ]
     },
     "metadata": {},
     "output_type": "display_data"
    },
    {
     "data": {
      "text/html": [
       "<table border=\"1\" class=\"dataframe\">\n",
       "  <thead>\n",
       "    <tr style=\"text-align: left;\">\n",
       "      <th>epoch</th>\n",
       "      <th>train_loss</th>\n",
       "      <th>valid_loss</th>\n",
       "      <th>calc_accuracy</th>\n",
       "      <th>time</th>\n",
       "    </tr>\n",
       "  </thead>\n",
       "  <tbody>\n",
       "    <tr>\n",
       "      <td>0</td>\n",
       "      <td>0.054885</td>\n",
       "      <td>0.031478</td>\n",
       "      <td>0.973013</td>\n",
       "      <td>00:00</td>\n",
       "    </tr>\n",
       "    <tr>\n",
       "      <td>1</td>\n",
       "      <td>0.030741</td>\n",
       "      <td>0.024967</td>\n",
       "      <td>0.977920</td>\n",
       "      <td>00:00</td>\n",
       "    </tr>\n",
       "    <tr>\n",
       "      <td>2</td>\n",
       "      <td>0.022546</td>\n",
       "      <td>0.022389</td>\n",
       "      <td>0.979392</td>\n",
       "      <td>00:00</td>\n",
       "    </tr>\n",
       "    <tr>\n",
       "      <td>3</td>\n",
       "      <td>0.018850</td>\n",
       "      <td>0.020173</td>\n",
       "      <td>0.984298</td>\n",
       "      <td>00:00</td>\n",
       "    </tr>\n",
       "    <tr>\n",
       "      <td>4</td>\n",
       "      <td>0.016454</td>\n",
       "      <td>0.018782</td>\n",
       "      <td>0.983808</td>\n",
       "      <td>00:00</td>\n",
       "    </tr>\n",
       "    <tr>\n",
       "      <td>5</td>\n",
       "      <td>0.015628</td>\n",
       "      <td>0.018900</td>\n",
       "      <td>0.983808</td>\n",
       "      <td>00:00</td>\n",
       "    </tr>\n",
       "    <tr>\n",
       "      <td>6</td>\n",
       "      <td>0.014786</td>\n",
       "      <td>0.018660</td>\n",
       "      <td>0.982336</td>\n",
       "      <td>00:00</td>\n",
       "    </tr>\n",
       "    <tr>\n",
       "      <td>7</td>\n",
       "      <td>0.013849</td>\n",
       "      <td>0.017598</td>\n",
       "      <td>0.984789</td>\n",
       "      <td>00:00</td>\n",
       "    </tr>\n",
       "    <tr>\n",
       "      <td>8</td>\n",
       "      <td>0.013092</td>\n",
       "      <td>0.017370</td>\n",
       "      <td>0.984789</td>\n",
       "      <td>00:00</td>\n",
       "    </tr>\n",
       "    <tr>\n",
       "      <td>9</td>\n",
       "      <td>0.013077</td>\n",
       "      <td>0.017571</td>\n",
       "      <td>0.982336</td>\n",
       "      <td>00:00</td>\n",
       "    </tr>\n",
       "  </tbody>\n",
       "</table>"
      ],
      "text/plain": [
       "<IPython.core.display.HTML object>"
      ]
     },
     "metadata": {},
     "output_type": "display_data"
    }
   ],
   "source": [
    "dls = DataLoaders(dl, dl_valid)\n",
    "model = nn.Sequential(\n",
    "    nn.Linear(28*28, 30),\n",
    "    nn.ReLU(),\n",
    "    nn.Linear(30, 1))\n",
    "params = list(model.parameters())\n",
    "\n",
    "learn = Learner(dls, model, loss_func=calc_loss, opt_func=SGD, metrics=calc_accuracy)\n",
    "learn.fit(10, 1)"
   ]
  },
  {
   "cell_type": "code",
   "execution_count": 128,
   "id": "b29c2f27-bacf-4f9b-bf8d-2c1805448815",
   "metadata": {},
   "outputs": [
    {
     "data": {
      "text/html": [
       "\n",
       "<style>\n",
       "    /* Turns off some styling */\n",
       "    progress {\n",
       "        /* gets rid of default border in Firefox and Opera. */\n",
       "        border: none;\n",
       "        /* Needs to be in here for Safari polyfill so background images work as expected. */\n",
       "        background-size: auto;\n",
       "    }\n",
       "    .progress-bar-interrupted, .progress-bar-interrupted::-webkit-progress-bar {\n",
       "        background: #F44336;\n",
       "    }\n",
       "</style>\n"
      ],
      "text/plain": [
       "<IPython.core.display.HTML object>"
      ]
     },
     "metadata": {},
     "output_type": "display_data"
    },
    {
     "data": {
      "text/html": [
       "<table border=\"1\" class=\"dataframe\">\n",
       "  <thead>\n",
       "    <tr style=\"text-align: left;\">\n",
       "      <th>epoch</th>\n",
       "      <th>train_loss</th>\n",
       "      <th>valid_loss</th>\n",
       "      <th>accuracy</th>\n",
       "      <th>time</th>\n",
       "    </tr>\n",
       "  </thead>\n",
       "  <tbody>\n",
       "    <tr>\n",
       "      <td>0</td>\n",
       "      <td>0.064423</td>\n",
       "      <td>0.016916</td>\n",
       "      <td>0.997056</td>\n",
       "      <td>00:17</td>\n",
       "    </tr>\n",
       "  </tbody>\n",
       "</table>"
      ],
      "text/plain": [
       "<IPython.core.display.HTML object>"
      ]
     },
     "metadata": {},
     "output_type": "display_data"
    }
   ],
   "source": [
    "dls = ImageDataLoaders.from_folder(path)\n",
    "learn = vision_learner(dls, resnet18, pretrained=False,\n",
    "                    loss_func=F.cross_entropy, metrics=accuracy)\n",
    "learn.fit_one_cycle(1, 0.1)"
   ]
  },
  {
   "cell_type": "code",
   "execution_count": null,
   "id": "773c5a9d-89b8-4827-9943-a64f55bea4f5",
   "metadata": {},
   "outputs": [],
   "source": []
  }
 ],
 "metadata": {
  "kernelspec": {
   "display_name": "Python 3 (ipykernel)",
   "language": "python",
   "name": "python3"
  },
  "language_info": {
   "codemirror_mode": {
    "name": "ipython",
    "version": 3
   },
   "file_extension": ".py",
   "mimetype": "text/x-python",
   "name": "python",
   "nbconvert_exporter": "python",
   "pygments_lexer": "ipython3",
   "version": "3.9.13"
  }
 },
 "nbformat": 4,
 "nbformat_minor": 5
}
