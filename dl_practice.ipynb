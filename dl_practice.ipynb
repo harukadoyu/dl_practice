{
 "cells": [
  {
   "cell_type": "code",
   "execution_count": 1,
   "id": "810804ce-dae8-448f-bdbb-f2a9fa258876",
   "metadata": {},
   "outputs": [],
   "source": [
    "import torch\n",
    "import matplotlib.pyplot as plt"
   ]
  },
  {
   "cell_type": "code",
   "execution_count": null,
   "id": "f485632e-053c-432b-9d00-7199a354ea38",
   "metadata": {},
   "outputs": [],
   "source": []
  },
  {
   "cell_type": "code",
   "execution_count": 2,
   "id": "df94a4b9-8dff-4248-a8ed-6a1887d82d4b",
   "metadata": {},
   "outputs": [
    {
     "data": {
      "text/plain": [
       "tensor([-5.0000, -4.5000, -4.0000, -3.5000, -3.0000, -2.5000, -2.0000, -1.5000,\n",
       "        -1.0000, -0.5000,  0.0000,  0.5000,  1.0000,  1.5000,  2.0000,  2.5000,\n",
       "         3.0000,  3.5000,  4.0000,  4.5000])"
      ]
     },
     "execution_count": 2,
     "metadata": {},
     "output_type": "execute_result"
    }
   ],
   "source": [
    "x = torch.arange(-5, 5, 0.5)\n",
    "x"
   ]
  },
  {
   "cell_type": "code",
   "execution_count": 8,
   "id": "27bfe184-86ed-4b9c-830e-a208dc478911",
   "metadata": {},
   "outputs": [],
   "source": [
    "def f(xx): return 2*xx**2 + xx + torch.randn(x.size())"
   ]
  },
  {
   "cell_type": "code",
   "execution_count": 9,
   "id": "a46138b1-1806-4713-b000-5b799af1564e",
   "metadata": {},
   "outputs": [
    {
     "data": {
      "text/plain": [
       "tensor([ 4.5411e+01,  3.5681e+01,  2.7963e+01,  2.0722e+01,  1.4579e+01,\n",
       "         9.3569e+00,  5.9130e+00,  1.7206e+00,  1.9036e+00, -1.8651e+00,\n",
       "         2.6340e-02,  4.0416e-01,  4.1578e+00,  6.7220e+00,  1.0002e+01,\n",
       "         1.4270e+01,  2.1435e+01,  2.7773e+01,  3.4913e+01,  4.6699e+01])"
      ]
     },
     "execution_count": 9,
     "metadata": {},
     "output_type": "execute_result"
    }
   ],
   "source": [
    "y = f(x)\n",
    "y"
   ]
  },
  {
   "cell_type": "code",
   "execution_count": 10,
   "id": "e56ccc45-1b05-4998-aa75-d4a234eb47bc",
   "metadata": {},
   "outputs": [
    {
     "data": {
      "text/plain": [
       "<matplotlib.collections.PathCollection at 0x7f7ef974b7f0>"
      ]
     },
     "execution_count": 10,
     "metadata": {},
     "output_type": "execute_result"
    },
    {
     "data": {
      "image/png": "[encoded data removed]",
      "text/plain": [
       "<Figure size 432x288 with 1 Axes>"
      ]
     },
     "metadata": {
      "needs_background": "light"
     },
     "output_type": "display_data"
    }
   ],
   "source": [
    "plt.scatter(x, f(x))"
   ]
  },
  {
   "cell_type": "code",
   "execution_count": 2,
   "id": "3c6f5c07-8c7e-4d04-85ea-58a93db7f0ea",
   "metadata": {},
   "outputs": [
    {
     "data": {
      "text/plain": [
       "tensor([-1., -1.], requires_grad=True)"
      ]
     },
     "execution_count": 2,
     "metadata": {},
     "output_type": "execute_result"
    }
   ],
   "source": [
    "params = torch.tensor([-1., -1.])\n",
    "params.requires_grad_()\n",
    "params"
   ]
  },
  {
   "cell_type": "code",
   "execution_count": 4,
   "id": "ee3dd175-d743-4cd1-aff8-487c21749188",
   "metadata": {},
   "outputs": [
    {
     "name": "stdout",
     "output_type": "stream",
     "text": [
      "Help on built-in function clone:\n",
      "\n",
      "clone(...)\n",
      "    clone(input, *, memory_format=torch.preserve_format) -> Tensor\n",
      "    \n",
      "    Returns a copy of :attr:`input`.\n",
      "    \n",
      "    .. note::\n",
      "    \n",
      "        This function is differentiable, so gradients will flow back from the\n",
      "        result of this operation to :attr:`input`. To create a tensor without an\n",
      "        autograd relationship to :attr:`input` see :meth:`~Tensor.detach`.\n",
      "    \n",
      "    Args:\n",
      "        input (Tensor): the input tensor.\n",
      "    \n",
      "    Keyword args:\n",
      "        memory_format (:class:`torch.memory_format`, optional): the desired memory format of\n",
      "            returned tensor. Default: ``torch.preserve_format``.\n",
      "\n"
     ]
    }
   ],
   "source": [
    "help(torch.clone)"
   ]
  },
  {
   "cell_type": "code",
   "execution_count": 42,
   "id": "0e0e6ae7-1031-4909-b07d-2e6b7f6bf8cd",
   "metadata": {},
   "outputs": [],
   "source": [
    "orig = params.clone()"
   ]
  },
  {
   "cell_type": "code",
   "execution_count": 43,
   "id": "0ff40276-cab1-46b5-93e6-7e2ac2baa800",
   "metadata": {},
   "outputs": [],
   "source": [
    "def g(params): return params[0]*x**2 + params[1]*x"
   ]
  },
  {
   "cell_type": "code",
   "execution_count": 44,
   "id": "a4caa4e1-d751-4a54-a855-994c15b068a9",
   "metadata": {},
   "outputs": [
    {
     "data": {
      "text/plain": [
       "tensor([-20.0000, -15.7500, -12.0000,  -8.7500,  -6.0000,  -3.7500,  -2.0000,\n",
       "         -0.7500,   0.0000,   0.2500,  -0.0000,  -0.7500,  -2.0000,  -3.7500,\n",
       "         -6.0000,  -8.7500, -12.0000, -15.7500, -20.0000, -24.7500],\n",
       "       grad_fn=<AddBackward0>)"
      ]
     },
     "execution_count": 44,
     "metadata": {},
     "output_type": "execute_result"
    }
   ],
   "source": [
    "g(params)"
   ]
  },
  {
   "cell_type": "code",
   "execution_count": 45,
   "id": "62077eac-f9e1-427a-872a-1d2b868250f7",
   "metadata": {},
   "outputs": [
    {
     "data": {
      "text/plain": [
       "<matplotlib.collections.PathCollection at 0x7f7edb9f1a30>"
      ]
     },
     "execution_count": 45,
     "metadata": {},
     "output_type": "execute_result"
    },
    {
     "data": {
      "image/png": "[encoded data removed]",
      "text/plain": [
       "<Figure size 432x288 with 1 Axes>"
      ]
     },
     "metadata": {
      "needs_background": "light"
     },
     "output_type": "display_data"
    }
   ],
   "source": [
    "plt.scatter(x, f(x))\n",
    "plt.scatter(x, g(params).detach().cpu().numpy(), color='red')"
   ]
  },
  {
   "cell_type": "code",
   "execution_count": 46,
   "id": "d9984a34-e476-4a9d-9dc4-6549183d8842",
   "metadata": {},
   "outputs": [],
   "source": [
    "def mse(params):\n",
    "    pred = g(params)\n",
    "    y = f(x)\n",
    "    return ((y - pred)**2).mean()"
   ]
  },
  {
   "cell_type": "code",
   "execution_count": 47,
   "id": "8852a518-8064-4383-a3e5-28646f2dda1f",
   "metadata": {},
   "outputs": [
    {
     "data": {
      "text/plain": [
       "tensor(1108.7231, grad_fn=<MeanBackward0>)"
      ]
     },
     "execution_count": 47,
     "metadata": {},
     "output_type": "execute_result"
    }
   ],
   "source": [
    "loss = mse(params)\n",
    "loss"
   ]
  },
  {
   "cell_type": "code",
   "execution_count": 48,
   "id": "85c9ec40-ab95-4139-bc01-2032632c6c45",
   "metadata": {},
   "outputs": [],
   "source": [
    "params.grad"
   ]
  },
  {
   "cell_type": "code",
   "execution_count": 49,
   "id": "e35219fb-f99e-49ff-ba28-355725f658f9",
   "metadata": {},
   "outputs": [],
   "source": [
    "loss.backward()"
   ]
  },
  {
   "cell_type": "code",
   "execution_count": 50,
   "id": "25ede0ff-7df0-4c59-9834-52e30c9f8986",
   "metadata": {},
   "outputs": [
    {
     "data": {
      "text/plain": [
       "tensor([-739.3873,    4.0270])"
      ]
     },
     "execution_count": 50,
     "metadata": {},
     "output_type": "execute_result"
    }
   ],
   "source": [
    "params.grad"
   ]
  },
  {
   "cell_type": "code",
   "execution_count": 51,
   "id": "1ff78ad7-a766-4fd8-bd0a-d72b10803db7",
   "metadata": {},
   "outputs": [
    {
     "data": {
      "text/plain": [
       "tensor([-1., -1.], requires_grad=True)"
      ]
     },
     "execution_count": 51,
     "metadata": {},
     "output_type": "execute_result"
    }
   ],
   "source": [
    "params"
   ]
  },
  {
   "cell_type": "code",
   "execution_count": 52,
   "id": "ece3de32-e497-4147-837d-d6648523ef45",
   "metadata": {},
   "outputs": [
    {
     "data": {
      "text/plain": [
       "tensor([-0.6303, -1.0020], requires_grad=True)"
      ]
     },
     "execution_count": 52,
     "metadata": {},
     "output_type": "execute_result"
    }
   ],
   "source": [
    "params.data -= 0.0005*params.grad.data\n",
    "params"
   ]
  },
  {
   "cell_type": "code",
   "execution_count": 53,
   "id": "404880a1-f4ad-4d53-ab35-c76024ebc094",
   "metadata": {},
   "outputs": [],
   "source": [
    "def apply_step():\n",
    "    loss = mse(params)\n",
    "    loss.backward()\n",
    "    print(loss.item())\n",
    "    params.data -= 0.0005*params.grad.data\n",
    "    params.grad = None"
   ]
  },
  {
   "cell_type": "code",
   "execution_count": 54,
   "id": "a5efdc79-31f7-4569-a36c-a2770ad7e7cc",
   "metadata": {},
   "outputs": [
    {
     "data": {
      "text/plain": [
       "<matplotlib.collections.PathCollection at 0x7f7edb985580>"
      ]
     },
     "execution_count": 54,
     "metadata": {},
     "output_type": "execute_result"
    },
    {
     "data": {
      "image/png": "[encoded data removed]",
      "text/plain": [
       "<Figure size 432x288 with 1 Axes>"
      ]
     },
     "metadata": {
      "needs_background": "light"
     },
     "output_type": "display_data"
    }
   ],
   "source": [
    "plt.scatter(x, f(x))\n",
    "plt.scatter(x, g(params).detach().cpu().numpy(), color='red')"
   ]
  },
  {
   "cell_type": "code",
   "execution_count": 55,
   "id": "65e9f0a7-b46f-44ab-a301-d9490fbad2b1",
   "metadata": {},
   "outputs": [
    {
     "name": "stdout",
     "output_type": "stream",
     "text": [
      "851.7808837890625\n"
     ]
    }
   ],
   "source": [
    "apply_step()"
   ]
  },
  {
   "cell_type": "code",
   "execution_count": 56,
   "id": "f7d744f7-587e-4258-b650-02f53e7e49cb",
   "metadata": {},
   "outputs": [
    {
     "data": {
      "text/plain": [
       "<matplotlib.collections.PathCollection at 0x7f7edb98ef70>"
      ]
     },
     "execution_count": 56,
     "metadata": {},
     "output_type": "execute_result"
    },
    {
     "data": {
      "image/png": "[encoded data removed]",
      "text/plain": [
       "<Figure size 432x288 with 1 Axes>"
      ]
     },
     "metadata": {
      "needs_background": "light"
     },
     "output_type": "display_data"
    }
   ],
   "source": [
    "plt.scatter(x, f(x))\n",
    "plt.scatter(x, g(params).detach().cpu().numpy(), color='red')"
   ]
  },
  {
   "cell_type": "code",
   "execution_count": 78,
   "id": "9ae34cdd-6e4a-442b-aded-2d3b8878d679",
   "metadata": {},
   "outputs": [
    {
     "name": "stdout",
     "output_type": "stream",
     "text": [
      "25.3494873046875\n"
     ]
    },
    {
     "data": {
      "text/plain": [
       "<matplotlib.collections.PathCollection at 0x7f7ed8a06130>"
      ]
     },
     "execution_count": 78,
     "metadata": {},
     "output_type": "execute_result"
    },
    {
     "data": {
      "image/png": "[encoded data removed]",
      "text/plain": [
       "<Figure size 432x288 with 1 Axes>"
      ]
     },
     "metadata": {
      "needs_background": "light"
     },
     "output_type": "display_data"
    }
   ],
   "source": [
    "apply_step()\n",
    "plt.scatter(x, f(x))\n",
    "plt.scatter(x, g(params).detach().cpu().numpy(), color='red')"
   ]
  },
  {
   "cell_type": "code",
   "execution_count": 82,
   "id": "3ef61624-3580-4f6f-b477-97ef5e128523",
   "metadata": {},
   "outputs": [
    {
     "name": "stdout",
     "output_type": "stream",
     "text": [
      "1099.815185546875\n",
      "849.6153564453125\n",
      "658.9589233398438\n",
      "508.9513244628906\n",
      "386.55352783203125\n",
      "327.00225830078125\n",
      "234.11947631835938\n",
      "201.11790466308594\n",
      "151.47372436523438\n",
      "121.72682189941406\n",
      "93.21891784667969\n",
      "83.41034698486328\n",
      "68.40473937988281\n",
      "62.363624572753906\n",
      "52.321754455566406\n",
      "46.218238830566406\n",
      "44.121910095214844\n",
      "38.42809295654297\n",
      "38.17226028442383\n",
      "35.26327896118164\n",
      "30.013742446899414\n",
      "29.52887535095215\n",
      "32.27452850341797\n",
      "29.589792251586914\n",
      "29.29555892944336\n",
      "26.73809814453125\n",
      "22.949405670166016\n",
      "23.547727584838867\n",
      "28.672128677368164\n",
      "25.492938995361328\n",
      "25.17172622680664\n",
      "23.391645431518555\n",
      "23.208065032958984\n",
      "22.382190704345703\n",
      "18.711669921875\n",
      "21.68460464477539\n",
      "22.953283309936523\n",
      "18.34304428100586\n",
      "22.3007755279541\n",
      "20.74721908569336\n",
      "22.77849769592285\n",
      "15.875622749328613\n",
      "19.999774932861328\n",
      "18.42196273803711\n",
      "21.554920196533203\n",
      "22.332223892211914\n",
      "19.294374465942383\n",
      "19.75754737854004\n",
      "19.298009872436523\n",
      "20.682071685791016\n",
      "15.075543403625488\n",
      "17.810657501220703\n",
      "15.485188484191895\n",
      "17.429025650024414\n",
      "17.445295333862305\n",
      "15.203989028930664\n",
      "14.25012493133545\n",
      "16.623023986816406\n",
      "14.55341625213623\n",
      "16.354894638061523\n",
      "16.0751953125\n",
      "14.92671012878418\n",
      "14.486549377441406\n",
      "13.382204055786133\n",
      "13.29468822479248\n",
      "12.949114799499512\n",
      "14.823984146118164\n",
      "12.697443962097168\n",
      "14.181096076965332\n",
      "14.737829208374023\n"
     ]
    }
   ],
   "source": [
    "params = torch.tensor([-1.,-1.]).requires_grad_()\n",
    "for i in range(70):\n",
    "    apply_step()"
   ]
  },
  {
   "cell_type": "code",
   "execution_count": 83,
   "id": "489f02f5-eeab-4814-9566-00f86f22cee0",
   "metadata": {},
   "outputs": [
    {
     "data": {
      "text/plain": [
       "<matplotlib.collections.PathCollection at 0x7f7ed89ce7f0>"
      ]
     },
     "execution_count": 83,
     "metadata": {},
     "output_type": "execute_result"
    },
    {
     "data": {
      "image/png": "[encoded data removed]",
      "text/plain": [
       "<Figure size 432x288 with 1 Axes>"
      ]
     },
     "metadata": {
      "needs_background": "light"
     },
     "output_type": "display_data"
    }
   ],
   "source": [
    "plt.scatter(x, f(x))\n",
    "plt.scatter(x, g(params).detach().cpu().numpy(), color='red')"
   ]
  },
  {
   "cell_type": "code",
   "execution_count": null,
   "id": "4c2146b8-cf97-446a-9264-9ffa683113b0",
   "metadata": {},
   "outputs": [],
   "source": []
  }
 ],
 "metadata": {
  "kernelspec": {
   "display_name": "Python 3 (ipykernel)",
   "language": "python",
   "name": "python3"
  },
  "language_info": {
   "codemirror_mode": {
    "name": "ipython",
    "version": 3
   },
   "file_extension": ".py",
   "mimetype": "text/x-python",
   "name": "python",
   "nbconvert_exporter": "python",
   "pygments_lexer": "ipython3",
   "version": "3.9.13"
  }
 },
 "nbformat": 4,
 "nbformat_minor": 5
}
